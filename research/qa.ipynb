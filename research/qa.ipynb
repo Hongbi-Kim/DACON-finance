{
 "cells": [
  {
   "cell_type": "code",
   "execution_count": 12,
   "metadata": {},
   "outputs": [],
   "source": [
    "import pandas as pd\n",
    "import os\n",
    "\n",
    "from langchain_qdrant import QdrantVectorStore\n",
    "\n",
    "from qdrant_client import QdrantClient\n",
    "from qdrant_client.http.models import Distance, VectorParams"
   ]
  },
  {
   "cell_type": "code",
   "execution_count": 13,
   "metadata": {},
   "outputs": [
    {
     "name": "stderr",
     "output_type": "stream",
     "text": [
      "/Users/hongbikim/anaconda3/envs/rag/lib/python3.9/site-packages/tqdm/auto.py:21: TqdmWarning: IProgress not found. Please update jupyter and ipywidgets. See https://ipywidgets.readthedocs.io/en/stable/user_install.html\n",
      "  from .autonotebook import tqdm as notebook_tqdm\n"
     ]
    }
   ],
   "source": [
    "from langchain_huggingface.embeddings import HuggingFaceEndpointEmbeddings\n",
    "\n",
    "model_name = \"nlpai-lab/KURE-v1\"\n",
    "\n",
    "hf_embeddings = HuggingFaceEndpointEmbeddings(\n",
    "    model=model_name,\n",
    "    task=\"feature-extraction\",\n",
    "    huggingfacehub_api_token=os.environ[\"HUGGINGFACEHUB_API_TOKEN\"],\n",
    ")"
   ]
  },
  {
   "cell_type": "code",
   "execution_count": 10,
   "metadata": {},
   "outputs": [
    {
     "data": {
      "text/plain": [
       "CollectionsResponse(collections=[CollectionDescription(name='rag-finance')])"
      ]
     },
     "execution_count": 10,
     "metadata": {},
     "output_type": "execute_result"
    }
   ],
   "source": [
    "client = QdrantClient(\n",
    "    host=\"localhost\",\n",
    "    port=6333,\n",
    "    # path = \"/Users/hongbikim/Dev/dacon_finance\"\n",
    ")\n",
    "\n",
    "collections = client.get_collections()\n",
    "collections"
   ]
  },
  {
   "cell_type": "code",
   "execution_count": 15,
   "metadata": {},
   "outputs": [],
   "source": [
    "vector_store = QdrantVectorStore(\n",
    "    client = client,\n",
    "    collection_name = \"rag-finance\",\n",
    "    embedding = hf_embeddings\n",
    ")"
   ]
  },
  {
   "cell_type": "code",
   "execution_count": 2,
   "metadata": {},
   "outputs": [
    {
     "data": {
      "text/html": [
       "<div>\n",
       "<style scoped>\n",
       "    .dataframe tbody tr th:only-of-type {\n",
       "        vertical-align: middle;\n",
       "    }\n",
       "\n",
       "    .dataframe tbody tr th {\n",
       "        vertical-align: top;\n",
       "    }\n",
       "\n",
       "    .dataframe thead th {\n",
       "        text-align: right;\n",
       "    }\n",
       "</style>\n",
       "<table border=\"1\" class=\"dataframe\">\n",
       "  <thead>\n",
       "    <tr style=\"text-align: right;\">\n",
       "      <th></th>\n",
       "      <th>ID</th>\n",
       "      <th>Question</th>\n",
       "    </tr>\n",
       "  </thead>\n",
       "  <tbody>\n",
       "    <tr>\n",
       "      <th>0</th>\n",
       "      <td>TEST_000</td>\n",
       "      <td>금융산업의 이해와 관련하여 금융투자업의 구분에 해당하지 않는 것은?\\n1 소비자금융...</td>\n",
       "    </tr>\n",
       "    <tr>\n",
       "      <th>1</th>\n",
       "      <td>TEST_001</td>\n",
       "      <td>위험 관리 계획 수립 시 고려해야 할 요소로 적절하지 않은 것은?\\n1 수행인력\\n...</td>\n",
       "    </tr>\n",
       "    <tr>\n",
       "      <th>2</th>\n",
       "      <td>TEST_002</td>\n",
       "      <td>관리체계 수립 및 운영'의 '정책 수립' 단계에서 가장 중요한 요소는 무엇인가?\\n...</td>\n",
       "    </tr>\n",
       "    <tr>\n",
       "      <th>3</th>\n",
       "      <td>TEST_003</td>\n",
       "      <td>재해 복구 계획 수립 시 고려해야 할 요소로 옳지 않은 것은?\\n1 복구 절차 수립...</td>\n",
       "    </tr>\n",
       "    <tr>\n",
       "      <th>4</th>\n",
       "      <td>TEST_004</td>\n",
       "      <td>트로이 목마(Trojan) 기반 원격제어 악성코드(RAT)의 특징과 주요 탐지 지표...</td>\n",
       "    </tr>\n",
       "    <tr>\n",
       "      <th>...</th>\n",
       "      <td>...</td>\n",
       "      <td>...</td>\n",
       "    </tr>\n",
       "    <tr>\n",
       "      <th>510</th>\n",
       "      <td>TEST_510</td>\n",
       "      <td>\"정보보호최고책임자\"의 임명에 관한 설명으로 옳지 않은 것은?\\n1 정보보호최고책임...</td>\n",
       "    </tr>\n",
       "    <tr>\n",
       "      <th>511</th>\n",
       "      <td>TEST_511</td>\n",
       "      <td>IPv6 주소 체계의 주요 특징으로 옳지 않은 것은?\\n1 NAT 필요성 감소\\n2...</td>\n",
       "    </tr>\n",
       "    <tr>\n",
       "      <th>512</th>\n",
       "      <td>TEST_512</td>\n",
       "      <td>하이브리드 위협에 대한 설명으로 가장 적절한 것은?\\n1 사이버 공간에서만 발생하는...</td>\n",
       "    </tr>\n",
       "    <tr>\n",
       "      <th>513</th>\n",
       "      <td>TEST_513</td>\n",
       "      <td>전자금융거래법의 주요 목적 중 하나는 무엇인가?\\n1 전자금융거래의 비대면성 강화\\...</td>\n",
       "    </tr>\n",
       "    <tr>\n",
       "      <th>514</th>\n",
       "      <td>TEST_514</td>\n",
       "      <td>전자서명인증업무 운영기준에 포함되지 않는 항목은 무엇인가?\\n1 전자서명인증서의 유...</td>\n",
       "    </tr>\n",
       "  </tbody>\n",
       "</table>\n",
       "<p>515 rows × 2 columns</p>\n",
       "</div>"
      ],
      "text/plain": [
       "           ID                                           Question\n",
       "0    TEST_000  금융산업의 이해와 관련하여 금융투자업의 구분에 해당하지 않는 것은?\\n1 소비자금융...\n",
       "1    TEST_001  위험 관리 계획 수립 시 고려해야 할 요소로 적절하지 않은 것은?\\n1 수행인력\\n...\n",
       "2    TEST_002  관리체계 수립 및 운영'의 '정책 수립' 단계에서 가장 중요한 요소는 무엇인가?\\n...\n",
       "3    TEST_003  재해 복구 계획 수립 시 고려해야 할 요소로 옳지 않은 것은?\\n1 복구 절차 수립...\n",
       "4    TEST_004  트로이 목마(Trojan) 기반 원격제어 악성코드(RAT)의 특징과 주요 탐지 지표...\n",
       "..        ...                                                ...\n",
       "510  TEST_510  \"정보보호최고책임자\"의 임명에 관한 설명으로 옳지 않은 것은?\\n1 정보보호최고책임...\n",
       "511  TEST_511  IPv6 주소 체계의 주요 특징으로 옳지 않은 것은?\\n1 NAT 필요성 감소\\n2...\n",
       "512  TEST_512  하이브리드 위협에 대한 설명으로 가장 적절한 것은?\\n1 사이버 공간에서만 발생하는...\n",
       "513  TEST_513  전자금융거래법의 주요 목적 중 하나는 무엇인가?\\n1 전자금융거래의 비대면성 강화\\...\n",
       "514  TEST_514  전자서명인증업무 운영기준에 포함되지 않는 항목은 무엇인가?\\n1 전자서명인증서의 유...\n",
       "\n",
       "[515 rows x 2 columns]"
      ]
     },
     "execution_count": 2,
     "metadata": {},
     "output_type": "execute_result"
    }
   ],
   "source": [
    "test = pd.read_csv(\"/Users/hongbikim/Dev/dacon_finance/open/test.csv\")\n",
    "test"
   ]
  },
  {
   "cell_type": "code",
   "execution_count": 4,
   "metadata": {},
   "outputs": [
    {
     "name": "stdout",
     "output_type": "stream",
     "text": [
      "트로이 목마(Trojan) 기반 원격제어 악성코드(RAT)의 특징과 주요 탐지 지표를 설명하세요.\n",
      "전자금융거래법에 따라 이용자가 금융 분쟁조정을 신청할 수 있는 기관을 기술하세요.\n",
      "딥페이크 기술 악용에 대비한 금융권의 대응 방안을 기술하세요.\n",
      "디지털 지갑(Digital Wallet)에서 우려되는 주요 보안 위협을 설명하세요.\n",
      "개인정보 접근 권한 검토는 어떻게 수행해야 하며, 그 목적은 무엇인가요?\n",
      "정보보호의 3대 요소에 해당하는 보안 목표를 3가지 기술하세요.\n",
      "금융회사가 정보보호 예산을 관리할 때, 전자금융감독규정상 정보기술부문 인력 및 예산의 기준 비율은 얼마인가요?\n",
      "SMTP 프로토콜의 보안상 주요 역할을 설명하세요.\n",
      "ID/PW 기반 인증 환경에서 발생할 수 있는 대표적인 공격 유형을 2가지 이상 서술하고 대응 방안을 설명하세요.\n",
      "전자자금이체의 지급 효력 발생 시점을 전자금융거래법 기준에 따라 설명하세요.\n",
      "DNSSEC의 주요 기능과 이를 통해 해결할 수 있는 보안 위협을 설명하세요.\n",
      "VLAN(Virtual LAN)의 주요 기능을 설명하세요.\n",
      "개인신용평점 하락 가능성과 관련해 설명의무가 발생하는 경우, 금융기관이 설명해야 할 주요 내용은 무엇인가요?\n",
      "인증 및 권한관리 측면에서 특수 계정에 대한 보안조치 방안은 무엇인가요?\n",
      "전자금융데이터 보안에서 암호화 방식을 선택할 때 고려해야 할 주요 기준은 무엇인가요?\n"
     ]
    }
   ],
   "source": [
    "for qq in test['Question']:\n",
    "    if '\\n' not in qq:\n",
    "        print(qq)"
   ]
  },
  {
   "cell_type": "code",
   "execution_count": null,
   "metadata": {},
   "outputs": [],
   "source": []
  },
  {
   "cell_type": "code",
   "execution_count": 16,
   "metadata": {},
   "outputs": [],
   "source": [
    "query = test['Question'][0].split(\"\\n\")[0]\n",
    "\n",
    "results = vector_store.similarity_search(\n",
    "    query = query,\n",
    "    k = 10,\n",
    "    # filter = models.Filter(must=[models.FieldCondition(\n",
    "    #     key = \"metadata.page\", # 특정 필드(예: page) 기반 필터링\n",
    "    #     match = models.MatchValue(value=2), # page 1인 문서만 검색\n",
    "    # )])\n",
    ")"
   ]
  },
  {
   "cell_type": "code",
   "execution_count": 17,
   "metadata": {},
   "outputs": [
    {
     "data": {
      "text/plain": [
       "[Document(metadata={'file_name': '자본시장과 금융투자업에 관한 법률 시행령(대통령령)(제35587호)(20250903).pdf', 'file_id': 'df6aeb0c59fd4235bebe1ae3a96799bd', 'page_chunk_id': 'page_19_chunk_0', 'chunk_length': 339, '_id': '2f77f108-5802-4fb3-8f7c-15faf52c8b4c', '_collection_name': 'rag-finance'}, page_content='법제처 20 국가법령정보센터\\n자본시장과 금융투자업에 관한 법률 시행령\\n1. 별표 1에 따른 금융투자업의 종류 중 다음 각 목의 금융투자업의 경우: 해당 금융투자업에 속하는 금융투자상품\\n중 증권, 장내파생상품, 장외파생상품 각각을 기준으로 하여 인가받지 않은 다른 업무 단위\\n가. 투자매매업\\n나. 투자매매업(인수업은 제외한다)\\n다. 투자매매업(인수업만 해당한다)\\n2. 별표 1에 따른 금융투자업의 종류 중 투자중개업(같은 표에 따라 인가업무 단위가 2l-1-1, 2l-1-2, 2-14-1 및 2-\\n14-2인 투자중개업은 제외한다)의 경우: 투자중개업에 속하는 인가업무 단위 중 인가받지 않은 다른 업무 단위'),\n",
       " Document(metadata={'file_name': '자본시장과 금융투자업에 관한 법률 시행령(대통령령)(제35471호)(20250722).pdf', 'file_id': 'fc003e50e40240ff9ba53360eab09a68', 'page_chunk_id': 'page_19_chunk_0', 'chunk_length': 339, '_id': '581051e1-a545-4d63-8728-74eb02e5316a', '_collection_name': 'rag-finance'}, page_content='법제처 20 국가법령정보센터\\n자본시장과 금융투자업에 관한 법률 시행령\\n1. 별표 1에 따른 금융투자업의 종류 중 다음 각 목의 금융투자업의 경우: 해당 금융투자업에 속하는 금융투자상품\\n중 증권, 장내파생상품, 장외파생상품 각각을 기준으로 하여 인가받지 않은 다른 업무 단위\\n가. 투자매매업\\n나. 투자매매업(인수업은 제외한다)\\n다. 투자매매업(인수업만 해당한다)\\n2. 별표 1에 따른 금융투자업의 종류 중 투자중개업(같은 표에 따라 인가업무 단위가 2l-1-1, 2l-1-2, 2-14-1 및 2-\\n14-2인 투자중개업은 제외한다)의 경우: 투자중개업에 속하는 인가업무 단위 중 인가받지 않은 다른 업무 단위'),\n",
       " Document(metadata={'file_name': '자본시장과 금융투자업에 관한 법률 시행령(대통령령)(제35391호)(20250919).pdf', 'file_id': '2ecc69d1c1d44eb9b1f20f450667b721', 'page_chunk_id': 'page_19_chunk_0', 'chunk_length': 339, '_id': 'b047b45c-4908-44b5-8a6c-e581eb0982ee', '_collection_name': 'rag-finance'}, page_content='법제처 20 국가법령정보센터\\n자본시장과 금융투자업에 관한 법률 시행령\\n1. 별표 1에 따른 금융투자업의 종류 중 다음 각 목의 금융투자업의 경우: 해당 금융투자업에 속하는 금융투자상품\\n중 증권, 장내파생상품, 장외파생상품 각각을 기준으로 하여 인가받지 않은 다른 업무 단위\\n가. 투자매매업\\n나. 투자매매업(인수업은 제외한다)\\n다. 투자매매업(인수업만 해당한다)\\n2. 별표 1에 따른 금융투자업의 종류 중 투자중개업(같은 표에 따라 인가업무 단위가 2l-1-1, 2l-1-2, 2-14-1 및 2-\\n14-2인 투자중개업은 제외한다)의 경우: 투자중개업에 속하는 인가업무 단위 중 인가받지 않은 다른 업무 단위'),\n",
       " Document(metadata={'file_name': '자본시장과 금융투자업에 관한 법률(법률)(제20718호)(20250722).pdf', 'file_id': '4fc7122ed95d4a36a9dce019ff5062be', 'page_chunk_id': 'page_8_chunk_1', 'chunk_length': 308, '_id': 'd0f4e217-1848-4cd1-b55d-964be09f9674', '_collection_name': 'rag-finance'}, page_content='1. 금융투자업의 종류(투자매매업, 투자중개업, 집합투자업 및 신탁업을 말하되, 투자매매업 중 인수업을 포함한다)\\n2. 금융투자상품(집합투자업의 경우에는 제229조에 따른 집합투자기구의 종류를 말하며, 신탁업의 경우에는 제\\n103조제1항 각 호의 신탁재산을 말한다)의 범위(증권, 장내파생상품 및 장외파생상품을 말하되, 증권 중 국채증권\\n, 사채권, 그 밖에 대통령령으로 정하는 것을 포함하고 파생상품 중 주권을 기초자산으로 하는 파생상품ㆍ그 밖에\\n대통령령으로 정하는 것을 포함한다)\\n3. 투자자의 유형(전문투자자 및 일반투자자를 말한다. 이하 같다)'),\n",
       " Document(metadata={'file_name': '자본시장과 금융투자업에 관한 법률 시행령(대통령령)(제35471호)(20250722).pdf', 'file_id': 'fc003e50e40240ff9ba53360eab09a68', 'page_chunk_id': 'page_206_chunk_0', 'chunk_length': 484, '_id': '9e7a93af-fff0-4d87-b704-e86bab72a5e2', '_collection_name': 'rag-finance'}, page_content='법제처 207 국가법령정보센터\\n자본시장과 금융투자업에 관한 법률 시행령\\n3. 채무증권의 매매거래(증권시장 밖에서의 매매거래만 해당한다)에 대한 정보 관리 및 공시에 관한 업무\\n4. 금융투자업자 임직원의 직무 및 윤리 교육에 관한 업무\\n5. 투자광고의 자율심의에 관한 업무\\n5의2. 증권시장에 상장되지 않은 지분증권(주권을 제외한 지분증권을 말한다)의 장외매매거래에 관한 업무\\n6. 그 밖에 정관에서 정하는 업무 제308조(조직 및 정관 등) ① 협회의 조직은 법 제287조제1항제3호 후단에 따라 다음 각 호의 기준에 따라 구분ㆍ운영\\n되어야 한다.\\n1. 금융투자업의 종류에 따른 다음 각 목의 구분을 준수할 것\\n가. 투자매매업ㆍ투자중개업\\n나. 집합투자업ㆍ투자자문업ㆍ투자일임업ㆍ신탁업\\n2. 제1호가목에 따른 투자매매업ㆍ투자중개업의 경우에는 금융투자상품의 범위에 따른 다음 각 목의 구분을 준수\\n할 것\\n가. 증권(집합투자증권은 제외한다)\\n나. 집합투자증권\\n다. 파생상품'),\n",
       " Document(metadata={'file_name': '자본시장과 금융투자업에 관한 법률 시행령(대통령령)(제35471호)(20250722).pdf', 'file_id': 'fc003e50e40240ff9ba53360eab09a68', 'page_chunk_id': 'page_8_chunk_0', 'chunk_length': 604, '_id': '220c7a3d-b26a-46ce-b55b-23bab1dcbe1a', '_collection_name': 'rag-finance'}, page_content='법제처 9 국가법령정보센터\\n자본시장과 금융투자업에 관한 법률 시행령\\n무와 관련된 분석정보 등을 제공하는 경우\\n10. 다른 법령에 따라 건축물 및 주택의 임대관리 등 부동산의 관리대행, 부동산의 이용ㆍ개발 및 거래에 대한 상담,\\n그 밖에 부동산의 투자ㆍ운용에 관한 자문 등의 업무를 영위하는 경우\\n\\n⑤ 법 제7조제6항에 따라 다음 각 호의 어느 하나에 해당하는 경우에는 해당 호의 금융투자업으로 보지 아니한다.\\n\\n1. 법 제7조제6항제1호의 경우: 투자중개업\\n2. 법 제7조제6항제2호의 경우: 투자매매업\\n3. 법 제7조제6항제3호의 경우: 투자매매업 또는 투자중개업\\n4. 법 제7조제6항제4호의 경우: 다음 각 목의 금융투자업\\n가. 제4항제1호부터 제3호까지, 제5호의2 및 제5호의3: 투자매매업\\n나. 제4항제4호: 투자중개업\\n다. 제4항제5호, 제6호 및 제6호의2: 투자매매업 또는 투자중개업\\n라. 제4항제7호: 투자자문업 또는 투자일임업\\n마. 제4항제8호 및 제9호: 투자자문업\\n바. 제4항제10호: 투자자문업 또는 투자일임업 제7조의2(적용범위) 법 제8조제9항제3호에서 “대통령령으로 정하는 금융기관 등”이란 다음 각 호의 어느 하나에 해당\\n하는 금융기관 등을 말한다.'),\n",
       " Document(metadata={'file_name': '자본시장과 금융투자업에 관한 법률 시행령(대통령령)(제35587호)(20250903).pdf', 'file_id': 'df6aeb0c59fd4235bebe1ae3a96799bd', 'page_chunk_id': 'page_8_chunk_0', 'chunk_length': 604, '_id': 'f97d89d5-4832-42f9-861b-2ae54a45ed7b', '_collection_name': 'rag-finance'}, page_content='법제처 9 국가법령정보센터\\n자본시장과 금융투자업에 관한 법률 시행령\\n무와 관련된 분석정보 등을 제공하는 경우\\n10. 다른 법령에 따라 건축물 및 주택의 임대관리 등 부동산의 관리대행, 부동산의 이용ㆍ개발 및 거래에 대한 상담,\\n그 밖에 부동산의 투자ㆍ운용에 관한 자문 등의 업무를 영위하는 경우\\n\\n⑤ 법 제7조제6항에 따라 다음 각 호의 어느 하나에 해당하는 경우에는 해당 호의 금융투자업으로 보지 아니한다.\\n\\n1. 법 제7조제6항제1호의 경우: 투자중개업\\n2. 법 제7조제6항제2호의 경우: 투자매매업\\n3. 법 제7조제6항제3호의 경우: 투자매매업 또는 투자중개업\\n4. 법 제7조제6항제4호의 경우: 다음 각 목의 금융투자업\\n가. 제4항제1호부터 제3호까지, 제5호의2 및 제5호의3: 투자매매업\\n나. 제4항제4호: 투자중개업\\n다. 제4항제5호, 제6호 및 제6호의2: 투자매매업 또는 투자중개업\\n라. 제4항제7호: 투자자문업 또는 투자일임업\\n마. 제4항제8호 및 제9호: 투자자문업\\n바. 제4항제10호: 투자자문업 또는 투자일임업 제7조의2(적용범위) 법 제8조제9항제3호에서 “대통령령으로 정하는 금융기관 등”이란 다음 각 호의 어느 하나에 해당\\n하는 금융기관 등을 말한다.'),\n",
       " Document(metadata={'file_name': '자본시장과 금융투자업에 관한 법률 시행령(대통령령)(제35391호)(20250919).pdf', 'file_id': '2ecc69d1c1d44eb9b1f20f450667b721', 'page_chunk_id': 'page_8_chunk_0', 'chunk_length': 604, '_id': 'adfa0570-c5e3-43fd-a4b9-0a79ebdd36e0', '_collection_name': 'rag-finance'}, page_content='법제처 9 국가법령정보센터\\n자본시장과 금융투자업에 관한 법률 시행령\\n무와 관련된 분석정보 등을 제공하는 경우\\n10. 다른 법령에 따라 건축물 및 주택의 임대관리 등 부동산의 관리대행, 부동산의 이용ㆍ개발 및 거래에 대한 상담,\\n그 밖에 부동산의 투자ㆍ운용에 관한 자문 등의 업무를 영위하는 경우\\n\\n⑤ 법 제7조제6항에 따라 다음 각 호의 어느 하나에 해당하는 경우에는 해당 호의 금융투자업으로 보지 아니한다.\\n\\n1. 법 제7조제6항제1호의 경우: 투자중개업\\n2. 법 제7조제6항제2호의 경우: 투자매매업\\n3. 법 제7조제6항제3호의 경우: 투자매매업 또는 투자중개업\\n4. 법 제7조제6항제4호의 경우: 다음 각 목의 금융투자업\\n가. 제4항제1호부터 제3호까지, 제5호의2 및 제5호의3: 투자매매업\\n나. 제4항제4호: 투자중개업\\n다. 제4항제5호, 제6호 및 제6호의2: 투자매매업 또는 투자중개업\\n라. 제4항제7호: 투자자문업 또는 투자일임업\\n마. 제4항제8호 및 제9호: 투자자문업\\n바. 제4항제10호: 투자자문업 또는 투자일임업 제7조의2(적용범위) 법 제8조제9항제3호에서 “대통령령으로 정하는 금융기관 등”이란 다음 각 호의 어느 하나에 해당\\n하는 금융기관 등을 말한다.'),\n",
       " Document(metadata={'file_name': '자본시장과 금융투자업에 관한 법률(법률)(제20718호)(20250722).pdf', 'file_id': '4fc7122ed95d4a36a9dce019ff5062be', 'page_chunk_id': 'page_4_chunk_2', 'chunk_length': 640, '_id': 'a5cbebb0-9afe-4295-be38-4818754a5aad', '_collection_name': 'rag-finance'}, page_content='④ 투자중개업자가 투자자의 매매주문을 받아 이를 처리하는 과정에서 금융투자상품에 대한 투자판단의 전부 또는\\n일부를 일임받을 필요가 있는 경우로서 대통령령으로 정하는 경우에는 투자일임업으로 보지 아니한다.\\n\\n⑤ 「담보부사채신탁법」에 따른 담보부사채에 관한 신탁업, 「저작권법」에 따른 저작권신탁관리업의 경우에는 신탁\\n업으로 보지 아니한다.\\n\\n⑥ 제1항부터 제5항까지 규정된 것 외에 다음 각 호의 어느 하나에 해당하는 경우에는 대통령령으로 정하는 바에\\n따라 제6조제1항 각 호의 금융투자업으로 보지 아니한다.\\n1. 제8조의2제2항에 따른 거래소가 증권시장 또는 파생상품시장을 개설ㆍ운영하는 경우\\n2. 투자매매업자를 상대방으로 하거나 투자중개업자를 통하여 금융투자상품을 매매하는 경우\\n3. 제9조제29항에 따른 일반 사모집합투자업자가 자신이 운용하는 제9조제19항제2호에 따른 일반 사모집합투자기\\n구의 집합투자증권을 판매하는 경우\\n4. 그 밖에 해당 행위의 성격 및 투자자 보호의 필요성 등을 고려하여 금융투자업의 적용에서 제외할 필요가 있는\\n것으로서 대통령령으로 정하는 경우 제8조(금융투자업자) ① 이 법에서 “금융투자업자”란 제6조제1항 각 호의 금융투자업에 대하여 금융위원회의 인가를\\n받거나 금융위원회에 등록하여 이를 영위하는 자를 말한다.'),\n",
       " Document(metadata={'file_name': '금융지주회사법 시행령(대통령령)(제35170호)(20241231).pdf', 'file_id': '7351b4ae11ff4595871fff91c1e38f4c', 'page_chunk_id': 'page_0_chunk_0', 'chunk_length': 285, '_id': 'ee1519bf-e2a3-4df3-96f9-f3c9f27216c1', '_collection_name': 'rag-finance'}, page_content='법제처 1 국가법령정보센터\\n금융지주회사법 시행령 금융지주회사법 시행령\\n \\n금융위원회 (금융정책과) 02-2100-2592 제1조(목적) 이 영은 「금융지주회사법」에서 위임된 사항과 그 시행에 관하여 필요한 사항을 규정함을 목적으로 한다.\\n 제2조(금융업의 범위 등) ①「금융지주회사법」(이하 “법”이라 한다) 제2조제1항제1호에서 “금융업”이라 함은 「통계법」\\n제22조제1항의 규정에 의하여 통계청장이 고시하는 한국표준산업분류에 의한 금융 및 보험업을 말한다. 다만, 금융\\n지주회사가 아닌 지주회사는 제외한다.')]"
      ]
     },
     "execution_count": 17,
     "metadata": {},
     "output_type": "execute_result"
    }
   ],
   "source": [
    "results"
   ]
  }
 ],
 "metadata": {
  "kernelspec": {
   "display_name": "rag",
   "language": "python",
   "name": "python3"
  },
  "language_info": {
   "codemirror_mode": {
    "name": "ipython",
    "version": 3
   },
   "file_extension": ".py",
   "mimetype": "text/x-python",
   "name": "python",
   "nbconvert_exporter": "python",
   "pygments_lexer": "ipython3",
   "version": "3.9.23"
  }
 },
 "nbformat": 4,
 "nbformat_minor": 2
}
